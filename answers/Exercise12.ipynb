{
 "cells": [
  {
   "cell_type": "code",
   "execution_count": null,
   "metadata": {},
   "outputs": [],
   "source": [
    "from pyspark import SparkContext, SparkConf\n",
    "from pyspark.sql import SQLContext, Row\n",
    "from numpy import array\n",
    "from pyspark.mllib.clustering import KMeans, KMeansModel\n",
    "\n",
    "\n",
    "from numpy import array\n",
    "from scipy import spatial\n",
    "\n",
    "#spark sql setup\n",
    "conf = SparkConf().setAppName(\"wind-sfpd\")\n",
    "sc = SparkContext(conf=conf)\n",
    "sqlc = SQLContext(sc)\n"
   ]
  },
  {
   "cell_type": "code",
   "execution_count": null,
   "metadata": {},
   "outputs": [],
   "source": [
    "# now read the incident data \n",
    "idf = sqlc.read.format('csv').options(header='true').load('/home/oxclo/datafiles/incidents/sfpd.csv')"
   ]
  },
  {
   "cell_type": "code",
   "execution_count": null,
   "metadata": {},
   "outputs": [],
   "source": [
    "rdd = idf.rdd\n",
    "geoarry = rdd.map(lambda row: array([row.Y, row.X]))"
   ]
  },
  {
   "cell_type": "code",
   "execution_count": null,
   "metadata": {},
   "outputs": [],
   "source": [
    "numclusters=5\n",
    "clusters = KMeans.train(geoarry, numclusters,\n",
    "maxIterations=10, runs=10, initializationMode=\"random\")"
   ]
  },
  {
   "cell_type": "code",
   "execution_count": null,
   "metadata": {},
   "outputs": [],
   "source": [
    "for arr in clusters.centers:\n",
    "    list = arr.tolist()\n",
    "    print(str(list[0]) +\",\"+ str(list[1]))"
   ]
  }
 ],
 "metadata": {
  "kernelspec": {
   "display_name": "Python 2",
   "language": "python",
   "name": "python2"
  },
  "language_info": {
   "codemirror_mode": {
    "name": "ipython",
    "version": 2
   },
   "file_extension": ".py",
   "mimetype": "text/x-python",
   "name": "python",
   "nbconvert_exporter": "python",
   "pygments_lexer": "ipython2",
   "version": "2.7.16"
  }
 },
 "nbformat": 4,
 "nbformat_minor": 4
}
