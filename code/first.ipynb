def strip(s): return ''.join(filter(str.isalpha, s))
books = sc.textFile("hdfs://localhost:54310/user/oxclo/books/*")

split = books.flatMap(lambda line: line.split())
stripped = split.map(strip)
notempty = stripped.filter(lambda w: len(w)>0)

# now map the words to lower case

# next convert the words into (k,v) pairs, where the key is the word, and the value is the count so far (1)

# next reduce by key, adding up the counts as you go 

# make sure your final variable is called wordcount, so this next line will print it out

for k,v in wordcount.collect(): 
    print (k,v)

